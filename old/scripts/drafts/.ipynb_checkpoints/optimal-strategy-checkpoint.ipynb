{
 "cells": [
  {
   "cell_type": "code",
   "execution_count": 1,
   "metadata": {},
   "outputs": [],
   "source": [
    "import numpy as np\n",
    "import numba as nb\n",
    "\n",
    "njit = nb.njit\n",
    "np.random.seed(0)"
   ]
  },
  {
   "cell_type": "markdown",
   "metadata": {},
   "source": [
    "# Les paramètres de l'étude. \n",
    "- La richesse initiale du porteur est de 1 euro, pour simplifier, mais aussi parce que tous les résultats sont linéaires en $W_0$.\n",
    "- Le taux sans risques est celui du livret A ([Source](https://www.capital.fr/votre-argent/livret-a-ldds-lep-cel-pee-les-nouveaux-taux-de-votre-epargne-reglementee-au-1er-fevrier-2020-1361121#:~:text=Livret%20A%20%3A%20taux%20%C3%A0%200%2C5%25&text=Pour%20une%20personne%20l'ayant,de%20115%20euros%20par%20an.)).\n",
    "- On prend pour référence l'ETF Lyxor CAC40 du 1er Avril 2020 au 5 mars 2021 ([Source](https://www.abcbourse.com/download/valeur/CACp)). La moyenne mensuelle des rendements $m$ et l'écart-type $\\sigma$ valent $0.0215$ et $0.0613$ respectivement. Il sont calculés avec le script\n",
    "```python\n",
    "import pandas as pd\n",
    "import numpy as np\n",
    "```\n",
    "```python\n",
    "etf = pd.read_csv(\"CAC.txt\", sep = \";\", names = [\"STOCK_ID\", \"DATE\", \"OPEN\", \"HIGH\", \"LOW\", \"CLOSE\", \"VOLUME\"])\n",
    "etf.DATE = etf.DATE.str[:-2] + \"20\" + etf.DATE.str[-2:]\n",
    "etf.DATE = pd.to_datetime(etf.DATE, format = \"%d/%m/%Y\")\n",
    "etf = etf[[\"DATE\", \"STOCK_ID\", \"CLOSE\"]]\n",
    "etf = etf.rename(columns = {\"CLOSE\": \"PRICE\"})\n",
    "etf = pd.pivot_table(etf, values='PRICE', index=['DATE'], columns=['STOCK_ID'])\n",
    "etf = etf.resample(\"1D\").last().interpolate().resample(\"1M\").last()\n",
    "returns = etf.copy()\n",
    "for stock in returns.columns:\n",
    "    returns[stock] = np.log(returns[stock]/returns[stock].shift(1)).values\n",
    "```\n",
    "```python\n",
    "m = returns.mean().values[0]\n",
    "sigma = returns.std().values[0]\n",
    "```\n",
    "- Le porteur modifie sa position tous les premiers du mois pendant un an, *i.e.* $K = 12$.\n",
    "- Les simulations de Monte-Carlo sont faites avec $S = 1e6$ de tirages (soit un million de tirages)."
   ]
  },
  {
   "cell_type": "code",
   "execution_count": 2,
   "metadata": {},
   "outputs": [],
   "source": [
    "W0 = 1            # For easier computations - results are linear anyway in W0\n",
    "r = 0.005         # taux livret A\n",
    "m = 0.0463        # From get-mean-std-CAC40-after-outbreak.py output\n",
    "sigma = 0.0313    # From get-mean-std-CAC40-after-outbreak.py output\n",
    "K = 5             # Number of years for the coupon\n",
    "S = 100           # Number of Monte-Carlo simulations"
   ]
  },
  {
   "cell_type": "markdown",
   "metadata": {},
   "source": [
    "# Fonctions utiles à la simulation"
   ]
  },
  {
   "cell_type": "markdown",
   "metadata": {},
   "source": [
    "- Une fonction qui simulent les rendements de l'ETF: elle prend en entrée les valeurs de $m$, $\\sigma$, $K$ et $S$, elle renvoie en sortie une matrice dont les lignes sont des séries indépendantes de $(\\mu_k)_{k = 0, \\dots, K - 1}$ telles que $\\mu_k = m + \\sigma\\epsilon_k$."
   ]
  },
  {
   "cell_type": "code",
   "execution_count": 3,
   "metadata": {},
   "outputs": [],
   "source": [
    "@njit(nogil=True)\n",
    "def njit_compute_mu(m, sigma, K, S):\n",
    "    epsilon = np.empty((S, K))\n",
    "    for s in np.arange(S):\n",
    "        for k in np.arange(K):\n",
    "            epsilon[s, k] = np.random.normal()\n",
    "    return m + sigma*epsilon"
   ]
  },
  {
   "cell_type": "markdown",
   "metadata": {},
   "source": [
    "- Une fonction qui permet de calculer par itération sur $k$ de $0$ à $K - 1$ les valeurs de $\\tilde{\\mathcal W}_k$ à partir de la récurrence \n",
    "\n",
    "    $\\tilde{\\mathcal W}_{k + 1} = \\tilde{\\mathcal W}_k + \\frac{\\mu_k - r}{1 + r}\\min(\\phi, \\tilde{\\mathcal{W}}_k - c) - c$\n",
    "\n",
    "    avec $\\tilde{\\mathcal{W}_0} = \\mathcal{W}_0$. Si la fortune venait à arriver en zéro en l'instant $k$, alors pour toutes les périodes suivantes on aurait une richesse nulle également. Et ce serait la ruine de l'investisseur.\n",
    "    \n",
    "    Cette fonction prend en entrée les paramètres $\\mathcal{W}_0$, $r$, $(\\mu_k)$, $\\phi$ et $c$ et renvoie en sortie une matrice dont les lignes sont des réalisations indépendantes du processus des richesses (valeurs actualisées à zéro)."
   ]
  },
  {
   "cell_type": "code",
   "execution_count": 4,
   "metadata": {},
   "outputs": [],
   "source": [
    "@njit(nogil=True) # To increase performance\n",
    "def compute_actualized_wealth(W0, r, mu, phi, c):\n",
    "    W = np.zeros((mu.shape[0], mu.shape[1] + 1))\n",
    "    W[:, 0] = W0\n",
    "    for k in np.arange(mu.shape[1]):\n",
    "        W[:, k + 1] = np.maximum(0, W[:, k] + (mu[:, k] - r)/(1 + r)*np.minimum(phi, W[:, k] - c) - c)\n",
    "    return W"
   ]
  },
  {
   "cell_type": "markdown",
   "metadata": {},
   "source": [
    "- Une fonction qui calcule la probabilité \n",
    "    $P\\left[ \\left(\\tilde{\\mathcal{W}}_1\\geq\\frac{K}{K + 1}\\tilde{\\mathcal{W}}_0\\right) \\wedge\\dots\\wedge\\left(\\tilde{\\mathcal{W}}_k\\geq\\frac{K - k + 1}{K + 1}\\tilde{\\mathcal{W}}_0\\right)\\wedge \\dots \\wedge \\left(\\tilde{\\mathcal{W}}_K\\geq\\frac{1}{K + 1}\\tilde{\\mathcal{W}}_0\\right) \\right]$\n",
    "    de respecter à chaque rebalancement les conditions de profitabilité par rapport à l'investissement sans risque. \n",
    "    \n",
    "    Elle prend en entrée $W_0$ et la matrice des réalisation du processus des richesses successives. Elle renvoie en sortie la probabilité simulée qu'un chemins respecte la condition de profitabilité\n",
    "    $\\tilde{\\mathcal{W}}_k\\geq\\frac{K - k + 1}{K + 1}\\tilde{\\mathcal{W}}_0$\n",
    "    à chaque rebalancement."
   ]
  },
  {
   "cell_type": "code",
   "execution_count": 5,
   "metadata": {},
   "outputs": [],
   "source": [
    "@njit(nogil=True)\n",
    "def njit_compute_profitability_probability(W0, W):\n",
    "    S = W.shape[0]\n",
    "    K = W.shape[1] - 1\n",
    "    inferior_boundary = W0*np.arange(K, 0, -1)/(K + 1)\n",
    "    p = 0\n",
    "    for s in np.arange(S):\n",
    "        product = 1\n",
    "        for k in np.arange(K):\n",
    "            product *= W[s, k + 1] >= inferior_boundary[k]\n",
    "        p += product\n",
    "    return p/S"
   ]
  },
  {
   "cell_type": "markdown",
   "metadata": {},
   "source": [
    "- Une fonction qui calcule les probabilités de profitabilité pour des couples $(\\varphi, c)$ compris entre $0$ et $W_0$. Le calcul est fait en discrétisant le segment $[0, \\mathcal{W_0}]$ en $N_c$ segments le long de $c$ et $N_{\\phi}$ segments le long de $\\phi$.\n",
    "    \n",
    "    Elle prend en entrée les paramètres $\\mathcal{W}_0$, $r$, $m$, $\\sigma$, $K$, $S$ et $(N_c, N_{\\phi})$. Pour ce dernier couple de paramètre, la valeur par défaut de $100$ est attribuée. La fonction renvoie en sortie une matrice des valeurs de la probabilité de profitabilité. L'axe $0$ représente $c$, l'axe $1$ représente $\\phi$."
   ]
  },
  {
   "cell_type": "code",
   "execution_count": 7,
   "metadata": {},
   "outputs": [],
   "source": [
    "@njit(nogil=True)\n",
    "def njit_compute_profitability_probability_map(W0, r, m, sigma, K, S, N_phi = 100, N_c = 100):\n",
    "    p = np.inf*np.ones((N_c + 1, N_phi + 1))\n",
    "    mu = njit_compute_mu(m, sigma, K, S)\n",
    "    W0_over_N_phi = W0/N_phi\n",
    "    c_over_N_c = W0/N_c\n",
    "    for n_c in np.arange(N_c + 1):\n",
    "        c = c_over_N_c*n_c\n",
    "        for n_phi in np.arange(N_phi + 1):\n",
    "            phi = W0_over_N_phi*n_phi\n",
    "            W = compute_actualized_wealth(W0, r, mu, phi, c)\n",
    "            p[n_c, n_phi] = njit_compute_profitability_probability(W0, W)\n",
    "    return p"
   ]
  },
  {
   "cell_type": "markdown",
   "metadata": {},
   "source": [
    "- Une dernière fonction qui vient calculer pour une valeur de $c$ donnée, la valeur de $\\phi$ qui sature la contrainte de profitabilité.\n",
    "\n",
    "    Elle prend en entrée les paramètres $\\mathcal{W}_0$, $r$, $m$, $sigma$, $K$ et $S$ et renvoie les valeurs prises par $(c, \\phi^*)$ dans une matrice."
   ]
  },
  {
   "cell_type": "code",
   "execution_count": 10,
   "metadata": {},
   "outputs": [],
   "source": [
    "p = njit_compute_profitability_probability_map(W0, r, m, sigma, K, S, 100, 100)"
   ]
  },
  {
   "cell_type": "code",
   "execution_count": 14,
   "metadata": {},
   "outputs": [
    {
     "data": {
      "text/plain": [
       "0"
      ]
     },
     "execution_count": 14,
     "metadata": {},
     "output_type": "execute_result"
    }
   ],
   "source": [
    "np.argmax(p[0, np.where(p[0, :] > .95)])"
   ]
  },
  {
   "cell_type": "code",
   "execution_count": null,
   "metadata": {},
   "outputs": [],
   "source": []
  }
 ],
 "metadata": {
  "kernelspec": {
   "display_name": "Python 3",
   "language": "python",
   "name": "python3"
  },
  "language_info": {
   "codemirror_mode": {
    "name": "ipython",
    "version": 3
   },
   "file_extension": ".py",
   "mimetype": "text/x-python",
   "name": "python",
   "nbconvert_exporter": "python",
   "pygments_lexer": "ipython3",
   "version": "3.8.5"
  }
 },
 "nbformat": 4,
 "nbformat_minor": 4
}
