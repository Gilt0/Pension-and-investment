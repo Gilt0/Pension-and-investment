{
 "cells": [
  {
   "cell_type": "code",
   "execution_count": 1,
   "metadata": {},
   "outputs": [],
   "source": [
    "import numpy as np\n",
    "import numba as nb\n",
    "\n",
    "njit = nb.njit"
   ]
  },
  {
   "cell_type": "code",
   "execution_count": 2,
   "metadata": {},
   "outputs": [],
   "source": [
    "W0 = 1            # For easier computations - results are linear anyway in W0\n",
    "r = 0.005         # taux livret A\n",
    "m = 0.0463        # From get-mean-std-CAC40-after-outbreak.py output\n",
    "sigma = 0.0313    # From get-mean-std-CAC40-after-outbreak.py output\n",
    "K = 5             # Number of years for the coupon\n",
    "S = 100           # Number of Monte-Carlo simulations"
   ]
  },
  {
   "cell_type": "code",
   "execution_count": 3,
   "metadata": {},
   "outputs": [],
   "source": [
    "def compute_mu(m, sigma, K, S):\n",
    "    np.random.seed(0)\n",
    "    return m + sigma*np.random.normal(size = (S, K))\n",
    "\n",
    "@njit(nogil=True)\n",
    "def njit_compute_mu(m, sigma, K, S):\n",
    "    np.random.seed(0)\n",
    "    epsilon = np.empty((S, K))\n",
    "    for s in np.arange(S):\n",
    "        for k in np.arange(K):\n",
    "            epsilon[s, k] = np.random.normal()\n",
    "    return m + sigma*epsilon\n",
    "\n",
    "assert compute_mu(m, sigma, K, S).sum() == njit_compute_mu(m, sigma, K, S).sum()"
   ]
  },
  {
   "cell_type": "code",
   "execution_count": 4,
   "metadata": {},
   "outputs": [],
   "source": [
    "@njit(nogil=True) # To increase performance\n",
    "def compute_actualized_wealth(W0, r, mu, phi, c):\n",
    "    W = np.zeros((mu.shape[0], mu.shape[1] + 1))\n",
    "    W[:, 0] = W0\n",
    "    for k in np.arange(mu.shape[1]):\n",
    "        W[:, k + 1] = np.maximum(0, W[:, k] + (mu[:, k] - r)/(1 + r)*np.minimum(phi, W[:, k] - c) - c)\n",
    "    return W"
   ]
  },
  {
   "cell_type": "code",
   "execution_count": 5,
   "metadata": {},
   "outputs": [],
   "source": [
    "def compute_profitability_probability(W0, W):\n",
    "    S = W.shape[0]\n",
    "    K = W.shape[1] - 1\n",
    "    inferior_boundary = W0*np.vstack([np.arange(K, 0, -1) for _ in np.arange(S)])/(K + 1)\n",
    "    return (W[:, 1:] >= inferior_boundary).prod(axis = 1).mean()\n",
    "\n",
    "@njit(nogil=True)\n",
    "def njit_compute_profitability_probability(W0, W):\n",
    "    S = W.shape[0]\n",
    "    K = W.shape[1] - 1\n",
    "    inferior_boundary = W0*np.arange(K, 0, -1)/(K + 1)\n",
    "    p = 0\n",
    "    for s in np.arange(S):\n",
    "        product = 1\n",
    "        for k in np.arange(K):\n",
    "            product *= W[s, k + 1] >= inferior_boundary[k]\n",
    "        p += product\n",
    "    return p/S\n",
    "\n",
    "phi = .5\n",
    "c = 0.17\n",
    "mu = compute_mu(m, sigma, 5, 5)\n",
    "njit_mu = njit_compute_mu(m, sigma, 5, 5)\n",
    "W = compute_actualized_wealth(W0, r, mu, phi, c)\n",
    "njit_W = compute_actualized_wealth(W0, r, njit_mu, phi, c)\n",
    "\n",
    "assert compute_profitability_probability(W0, W) == njit_compute_profitability_probability(W0, njit_W)"
   ]
  },
  {
   "cell_type": "code",
   "execution_count": 6,
   "metadata": {},
   "outputs": [],
   "source": [
    "def compute__profitability_probability_map(W0, r, m, sigma, K, S, N_phi = 100, N_c = 100):\n",
    "    p = np.inf*np.ones((N_c + 1, N_phi + 1))\n",
    "    mu = compute_mu(m, sigma, K, S)\n",
    "    W0_over_N_phi = W0/N_phi\n",
    "    c_over_N_c = W0/N_c\n",
    "    for n_c in np.arange(N_c + 1):\n",
    "        c = c_over_N_c*n_c\n",
    "        for n_phi in np.arange(N_phi + 1):\n",
    "            phi = W0_over_N_phi*n_phi\n",
    "            W = compute_actualized_wealth(W0, r, mu, phi, c)\n",
    "            p[n_c, n_phi] = compute_profitability_probability(W0, W)\n",
    "    return p\n",
    "\n",
    "@njit(nogil=True)\n",
    "def njit_compute__profitability_probability_map(W0, r, m, sigma, K, S, N_phi = 100, N_c = 100):\n",
    "    p = np.inf*np.ones((N_c + 1, N_phi + 1))\n",
    "    mu = njit_compute_mu(m, sigma, K, S)\n",
    "    W0_over_N_phi = W0/N_phi\n",
    "    c_over_N_c = W0/N_c\n",
    "    for n_c in np.arange(N_c + 1):\n",
    "        c = c_over_N_c*n_c\n",
    "        for n_phi in np.arange(N_phi + 1):\n",
    "            phi = W0_over_N_phi*n_phi\n",
    "            W = compute_actualized_wealth(W0, r, mu, phi, c)\n",
    "            p[n_c, n_phi] = njit_compute_profitability_probability(W0, W)\n",
    "    return p\n",
    "\n",
    "assert compute__profitability_probability_map(W0, r, m, sigma, 100, 100, N_phi = 100, N_c = 100).sum() == njit_compute__profitability_probability_map(W0, r, m, sigma, 100, 100, N_phi = 100, N_c = 100).sum()"
   ]
  },
  {
   "cell_type": "code",
   "execution_count": 7,
   "metadata": {},
   "outputs": [
    {
     "name": "stdout",
     "output_type": "stream",
     "text": [
      "Wall time: 4min 38s\n"
     ]
    }
   ],
   "source": [
    "%time mu = compute__profitability_probability_map(W0, r, m, sigma, K, S, N_phi = 1000, N_c = 1000)"
   ]
  },
  {
   "cell_type": "code",
   "execution_count": 8,
   "metadata": {},
   "outputs": [
    {
     "name": "stdout",
     "output_type": "stream",
     "text": [
      "Wall time: 15.1 s\n"
     ]
    }
   ],
   "source": [
    "%time mu = njit_compute__profitability_probability_map(W0, r, m, sigma, K, S, N_phi = 1000, N_c = 1000)"
   ]
  }
 ],
 "metadata": {
  "kernelspec": {
   "display_name": "Python 3",
   "language": "python",
   "name": "python3"
  },
  "language_info": {
   "codemirror_mode": {
    "name": "ipython",
    "version": 3
   },
   "file_extension": ".py",
   "mimetype": "text/x-python",
   "name": "python",
   "nbconvert_exporter": "python",
   "pygments_lexer": "ipython3",
   "version": "3.8.5"
  }
 },
 "nbformat": 4,
 "nbformat_minor": 4
}
