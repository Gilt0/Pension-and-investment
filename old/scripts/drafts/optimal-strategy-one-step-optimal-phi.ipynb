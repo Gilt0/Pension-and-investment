{
 "cells": [
  {
   "cell_type": "code",
   "execution_count": 1,
   "metadata": {},
   "outputs": [],
   "source": [
    "import numpy as np\n",
    "import numba as nb\n",
    "import pylab as plt\n",
    "\n",
    "njit = nb.njit\n",
    "np.random.seed(0)"
   ]
  },
  {
   "cell_type": "code",
   "execution_count": 2,
   "metadata": {},
   "outputs": [],
   "source": [
    "W0 = 1            # For easier computations - results are linear anyway in W0\n",
    "r = 0.005         # taux livret A\n",
    "m = 0.0463        # From get-mean-std-CAC40-after-outbreak.py output\n",
    "sigma = 0.0313    # From get-mean-std-CAC40-after-outbreak.py output\n",
    "S = 10000         # Number of Monte-Carlo simulations"
   ]
  },
  {
   "cell_type": "code",
   "execution_count": 3,
   "metadata": {},
   "outputs": [],
   "source": [
    "@njit(nogil=True)\n",
    "def compute_mu(m, sigma, S, set_seed = True):\n",
    "    if set_seed: np.random.seed(0)\n",
    "    mu = np.empty(S)\n",
    "    for s in np.arange(S):\n",
    "        mu[s] = m + sigma*np.random.normal()\n",
    "    return mu"
   ]
  },
  {
   "cell_type": "code",
   "execution_count": 4,
   "metadata": {},
   "outputs": [
    {
     "name": "stdout",
     "output_type": "stream",
     "text": [
      "Wall time: 156 ms\n",
      "Wall time: 0 ns\n"
     ]
    }
   ],
   "source": [
    "@njit(nogil = True)\n",
    "def compute_actualized_wealth(W0, r, mu, phi, c):\n",
    "    S, = mu.shape\n",
    "    W = np.zeros(S)\n",
    "    for s in np.arange(S):\n",
    "        W[s] = np.maximum(0, W0 + (mu[s] - r)*np.minimum(phi, W0 - c)/(1 + r) - c)\n",
    "    return W\n",
    "\n",
    "def compute_actualized_wealth_np(W0, r, mu, phi, c):\n",
    "    return np.maximum(0, W0 + (mu - r)*np.minimum(phi, W0 - c)/(1 + r) - c)\n",
    "\n",
    "c = 0.1\n",
    "phi = 0.9\n",
    "S = 1000\n",
    "mu = compute_mu(m, sigma, S)\n",
    "\n",
    "%time W1 = compute_actualized_wealth(W0, r, mu, phi, c)\n",
    "%time W2 = compute_actualized_wealth_np(W0, r, mu, phi, c)\n",
    "\n",
    "assert (W1 == W2).sum() == S"
   ]
  },
  {
   "cell_type": "code",
   "execution_count": 5,
   "metadata": {},
   "outputs": [
    {
     "name": "stdout",
     "output_type": "stream",
     "text": [
      "Wall time: 187 ms\n"
     ]
    },
    {
     "data": {
      "text/plain": [
       "0.0934152"
      ]
     },
     "execution_count": 5,
     "metadata": {},
     "output_type": "execute_result"
    }
   ],
   "source": [
    "@njit(nogil = True)\n",
    "def compute_probability(W_lim, W, phi, c):\n",
    "    S_lim = 0\n",
    "    S = W.shape[0]\n",
    "    for s in np.arange(S):\n",
    "        W_s = W[s]\n",
    "        if W_s <= W_lim:\n",
    "            S_lim += 1\n",
    "    return S_lim/S\n",
    "\n",
    "c = 0.5\n",
    "phi = .6\n",
    "S = 10000000\n",
    "mu = compute_mu(m, sigma, S)\n",
    "W = compute_actualized_wealth(W0, r, mu, phi, c)\n",
    "\n",
    "%time compute_probability(W0/2, W, phi, .5)"
   ]
  },
  {
   "cell_type": "code",
   "execution_count": 12,
   "metadata": {},
   "outputs": [
    {
     "name": "stdout",
     "output_type": "stream",
     "text": [
      "Wall time: 2.41 s\n"
     ]
    }
   ],
   "source": [
    "S = 10000\n",
    "N_phi = 1000\n",
    "N_c = 100\n",
    "\n",
    "@njit(nogil = True)\n",
    "def compute_phi_star(W0, r, m, sigma, S, N_phi = 100, N_c = 100, alpha = 0.05):\n",
    "    mu = compute_mu(m, sigma, S)\n",
    "    W0_over_N_phi = W0/N_phi\n",
    "    c_over_N_c = W0/N_c\n",
    "    phi_star = np.nan*np.ones(N_c + 1)\n",
    "    for n_c in np.arange(N_c + 1):\n",
    "        c = c_over_N_c*n_c\n",
    "        p = 0\n",
    "        for n_phi in np.arange(N_phi + 1):\n",
    "            phi = W0_over_N_phi*n_phi\n",
    "            if phi > W0 - c: continue\n",
    "            W = compute_actualized_wealth(W0, r, mu, phi, c)\n",
    "            p = compute_probability(W0/2, W, phi, c)\n",
    "            if p < alpha:\n",
    "                phi_star[n_c] = phi\n",
    "    return phi_star\n",
    "\n",
    "%time phi_star = compute_phi_star(W0, r, m, sigma, S, N_phi = N_phi, N_c = N_c)"
   ]
  },
  {
   "cell_type": "code",
   "execution_count": 36,
   "metadata": {},
   "outputs": [
    {
     "data": {
      "text/plain": [
       "1.0"
      ]
     },
     "execution_count": 36,
     "metadata": {},
     "output_type": "execute_result"
    },
    {
     "data": {
      "image/png": "[encoded data removed]",
      "text/plain": [
       "<Figure size 432x288 with 1 Axes>"
      ]
     },
     "metadata": {
      "needs_background": "light"
     },
     "output_type": "display_data"
    }
   ],
   "source": [
    "mu = compute_mu(m, sigma, S)\n",
    "W0_over_N_phi = W0/N_phi\n",
    "c_over_N_c = W0/N_c\n",
    "phi_star = np.nan*np.ones(N_c + 1)\n",
    "c = .6\n",
    "p = 0\n",
    "phi = 0.1\n",
    "W = compute_actualized_wealth(W0, r, mu, phi, c)\n",
    "plt.hist(W)\n",
    "p = compute_probability(W0/2, W, phi, c)\n",
    "p"
   ]
  },
  {
   "cell_type": "code",
   "execution_count": 47,
   "metadata": {},
   "outputs": [
    {
     "data": {
      "text/plain": [
       "0.0"
      ]
     },
     "execution_count": 47,
     "metadata": {},
     "output_type": "execute_result"
    },
    {
     "data": {
      "image/png": "[encoded data removed]",
      "text/plain": [
       "<Figure size 432x288 with 1 Axes>"
      ]
     },
     "metadata": {
      "needs_background": "light"
     },
     "output_type": "display_data"
    }
   ],
   "source": [
    "S = 1000000\n",
    "mu = compute_mu(m, sigma, S)\n",
    "W0_over_N_phi = W0/N_phi\n",
    "c_over_N_c = W0/N_c\n",
    "phi_star = np.nan*np.ones(N_c + 1)\n",
    "c = .1\n",
    "p = 0\n",
    "phi = 0.1\n",
    "W = compute_actualized_wealth(W0, r, mu, phi, c)\n",
    "plt.hist(W)\n",
    "p = compute_probability(W0/2, W, phi, c)\n",
    "p"
   ]
  },
  {
   "cell_type": "code",
   "execution_count": null,
   "metadata": {},
   "outputs": [],
   "source": []
  }
 ],
 "metadata": {
  "kernelspec": {
   "display_name": "Python 3",
   "language": "python",
   "name": "python3"
  },
  "language_info": {
   "codemirror_mode": {
    "name": "ipython",
    "version": 3
   },
   "file_extension": ".py",
   "mimetype": "text/x-python",
   "name": "python",
   "nbconvert_exporter": "python",
   "pygments_lexer": "ipython3",
   "version": "3.8.5"
  }
 },
 "nbformat": 4,
 "nbformat_minor": 4
}
