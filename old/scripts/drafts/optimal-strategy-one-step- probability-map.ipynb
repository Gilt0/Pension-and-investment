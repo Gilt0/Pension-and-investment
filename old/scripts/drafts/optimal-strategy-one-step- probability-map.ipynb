{
 "cells": [
  {
   "cell_type": "code",
   "execution_count": 1,
   "metadata": {},
   "outputs": [],
   "source": [
    "import numpy as np\n",
    "import numba as nb\n",
    "import pylab as plt\n",
    "\n",
    "njit = nb.njit\n",
    "np.random.seed(0)"
   ]
  },
  {
   "cell_type": "code",
   "execution_count": 2,
   "metadata": {},
   "outputs": [],
   "source": [
    "W0 = 1            # For easier computations - results are linear anyway in W0\n",
    "r = 0.005         # taux livret A\n",
    "m = 0.0463        # From get-mean-std-CAC40-after-outbreak.py output\n",
    "sigma = 0.0313    # From get-mean-std-CAC40-after-outbreak.py output\n",
    "S = 10000         # Number of Monte-Carlo simulations"
   ]
  },
  {
   "cell_type": "code",
   "execution_count": 3,
   "metadata": {},
   "outputs": [
    {
     "name": "stdout",
     "output_type": "stream",
     "text": [
      "Wall time: 574 ms\n",
      "Wall time: 0 ns\n"
     ]
    }
   ],
   "source": [
    "@njit(nogil=True)\n",
    "def compute_mu(m, sigma, S, set_seed = True):\n",
    "    if set_seed: np.random.seed(0)\n",
    "    mu = np.empty(S)\n",
    "    for s in np.arange(S):\n",
    "        mu[s] = m + sigma*np.random.normal()\n",
    "    return mu\n",
    "\n",
    "np.random.seed(0)\n",
    "%time mu1 = compute_mu(m, sigma, S, set_seed = True)\n",
    "%time mu2 = m + sigma*np.random.normal(size = S)\n",
    "\n",
    "assert (mu1 == mu2).sum() == mu1.shape[0]"
   ]
  },
  {
   "cell_type": "code",
   "execution_count": 4,
   "metadata": {},
   "outputs": [],
   "source": [
    "@njit(nogil = True)\n",
    "def compute_actualized_wealth(W0, r, mu, phi, c):\n",
    "    S, = mu.shape\n",
    "    W = np.zeros(S)\n",
    "    for s in np.arange(S):\n",
    "        W[s] = np.maximum(0, W0 + (mu[s] - r)*np.minimum(phi, W0 - c)/(1 + r) - c)\n",
    "    return W"
   ]
  },
  {
   "cell_type": "code",
   "execution_count": 5,
   "metadata": {},
   "outputs": [
    {
     "name": "stdout",
     "output_type": "stream",
     "text": [
      "Wall time: 999 µs\n",
      "Wall time: 160 ms\n"
     ]
    }
   ],
   "source": [
    "phi = .5\n",
    "c = .5\n",
    "mu = compute_mu(m, sigma, S, set_seed = True)\n",
    "%time W1 = np.maximum(0, W0 + (mu - r)*np.minimum(phi, W0 - c)/(1 + r) - c)\n",
    "%time W2 = compute_actualized_wealth(W0, r, mu, phi, c)\n",
    "\n",
    "assert (W1 == W2).sum() == W2.shape[0]"
   ]
  },
  {
   "cell_type": "code",
   "execution_count": 6,
   "metadata": {},
   "outputs": [],
   "source": [
    "@njit(nogil = True)\n",
    "def compute_profitability_probability(W0, W):\n",
    "    S, = W.shape\n",
    "    p = 0\n",
    "    for s in np.arange(S):\n",
    "        p += W[s] > W0/2\n",
    "    return p/S"
   ]
  },
  {
   "cell_type": "code",
   "execution_count": 7,
   "metadata": {},
   "outputs": [
    {
     "name": "stdout",
     "output_type": "stream",
     "text": [
      "Wall time: 0 ns\n",
      "Wall time: 140 ms\n"
     ]
    }
   ],
   "source": [
    "W = compute_actualized_wealth(W0, r, mu, phi, c)\n",
    "%time p1 = (W > W0/2).mean()\n",
    "%time p2 = compute_profitability_probability(W0, W)\n",
    "\n",
    "assert p1 == p2"
   ]
  },
  {
   "cell_type": "code",
   "execution_count": 8,
   "metadata": {},
   "outputs": [],
   "source": [
    "@njit(nogil = True)\n",
    "def compute_profitability_probability_for_c(c, W0, r, mu, S, N_phi = 100):\n",
    "    p = np.empty(N_phi + 1)\n",
    "    W0_over_N_phi = W0/N_phi\n",
    "    for n_phi in np.arange(N_phi + 1):\n",
    "        phi = W0_over_N_phi*n_phi\n",
    "        W  = compute_actualized_wealth(W0, r, mu, phi, c)\n",
    "        p[n_phi]  = compute_profitability_probability(W0, W)\n",
    "    return p\n",
    "\n",
    "def compute_profitability_probability_for_c_no_jit(c, W0, r, mu, S, N_phi = 100):\n",
    "    p = np.nan*np.ones(N_phi + 1)\n",
    "    W0_over_N_phi = W0/N_phi\n",
    "    for n_phi in np.arange(N_phi + 1):\n",
    "        phi = W0_over_N_phi*n_phi\n",
    "        if phi > (W0 - c): p[n_phi] = - 1\n",
    "        W  = np.maximum(0, W0 + (mu - r)*np.minimum(phi, W0 - c)/(1 + r) - c)\n",
    "        p[n_phi]  = (W > W0/2).mean()\n",
    "    return p"
   ]
  },
  {
   "cell_type": "code",
   "execution_count": 9,
   "metadata": {},
   "outputs": [
    {
     "name": "stdout",
     "output_type": "stream",
     "text": [
      "Wall time: 297 ms\n",
      "Wall time: 15.6 ms\n"
     ]
    }
   ],
   "source": [
    "mu = compute_mu(m, sigma, S)\n",
    "S = 100\n",
    "\n",
    "c = .5\n",
    "%time p1 = compute_profitability_probability_for_c(c, W0, r, mu, S, N_phi = S)\n",
    "%time p2 = compute_profitability_probability_for_c_no_jit(c, W0, r, mu, S, N_phi = S)\n",
    "\n",
    "assert p1.sum() == p2.sum()"
   ]
  },
  {
   "cell_type": "code",
   "execution_count": 10,
   "metadata": {},
   "outputs": [],
   "source": [
    "@njit(nogil = True)\n",
    "def compute_profitability_probability_map(c, W0, r, m, sigma, S, N_phi = 100, N_c = 100):\n",
    "    mu = compute_mu(m, sigma, S)\n",
    "    p = np.empty((N_c + 1, N_phi + 1))\n",
    "    c_over_N_c = W0/N_c\n",
    "    for n_c in np.arange(N_c + 1):\n",
    "        c = c_over_N_c*n_c\n",
    "        p[n_c, :]  = compute_profitability_probability_for_c(c, W0, r, mu, S, N_phi = N_phi)\n",
    "    return p\n",
    "\n",
    "\n",
    "def compute_profitability_probability_map_no_jit(c, W0, r, m, sigma, S, N_phi = 100, N_c = 100):\n",
    "    mu = compute_mu(m, sigma, S)\n",
    "    p = np.empty((N_c + 1, N_phi + 1))\n",
    "    c_over_N_c = W0/N_c\n",
    "    for n_c in np.arange(N_c + 1):\n",
    "        c = c_over_N_c*n_c\n",
    "        p[n_c, :]  = compute_profitability_probability_for_c_no_jit(c, W0, r, mu, S, N_phi = N_phi)\n",
    "    return p"
   ]
  },
  {
   "cell_type": "code",
   "execution_count": 24,
   "metadata": {},
   "outputs": [
    {
     "name": "stdout",
     "output_type": "stream",
     "text": [
      "Wall time: 8.57 ms\n",
      "Wall time: 182 ms\n"
     ]
    }
   ],
   "source": [
    "%time p1 = compute_profitability_probability_map(c, W0, r, m, sigma, S, N_phi = 100, N_c = 100)\n",
    "%time p2 = compute_profitability_probability_map_no_jit(c, W0, r, m, sigma, S, N_phi = 100, N_c = 100)\n",
    "\n",
    "assert p1.sum() == p2.sum()"
   ]
  },
  {
   "cell_type": "code",
   "execution_count": 23,
   "metadata": {},
   "outputs": [
    {
     "name": "stdout",
     "output_type": "stream",
     "text": [
      "Wall time: 39.8 s\n"
     ]
    }
   ],
   "source": [
    "%time p = compute_profitability_probability_map(c, W0, r, m, sigma, S = 1000, N_phi = 5000, N_c = 5000)"
   ]
  },
  {
   "cell_type": "code",
   "execution_count": 22,
   "metadata": {},
   "outputs": [
    {
     "data": {
      "text/plain": [
       "<matplotlib.image.AxesImage at 0x11c6d0a0880>"
      ]
     },
     "execution_count": 22,
     "metadata": {},
     "output_type": "execute_result"
    },
    {
     "data": {
      "image/png": "[encoded data removed]",
      "text/plain": [
       "<Figure size 432x288 with 1 Axes>"
      ]
     },
     "metadata": {
      "needs_background": "light"
     },
     "output_type": "display_data"
    }
   ],
   "source": [
    "import pylab as plt\n",
    "plt.imshow((p > .9409) & (p < 0.9501))"
   ]
  },
  {
   "cell_type": "code",
   "execution_count": null,
   "metadata": {},
   "outputs": [],
   "source": []
  }
 ],
 "metadata": {
  "kernelspec": {
   "display_name": "Python 3",
   "language": "python",
   "name": "python3"
  },
  "language_info": {
   "codemirror_mode": {
    "name": "ipython",
    "version": 3
   },
   "file_extension": ".py",
   "mimetype": "text/x-python",
   "name": "python",
   "nbconvert_exporter": "python",
   "pygments_lexer": "ipython3",
   "version": "3.8.5"
  }
 },
 "nbformat": 4,
 "nbformat_minor": 4
}
